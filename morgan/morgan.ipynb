{
 "cells": [
  {
   "cell_type": "code",
   "execution_count": 1,
   "id": "c7b31656",
   "metadata": {},
   "outputs": [],
   "source": [
    "import pandas as pd\n",
    "from rdkit import Chem\n",
    "from rdkit.Chem import AllChem\n",
    "\n"
   ]
  },
  {
   "cell_type": "code",
   "execution_count": 3,
   "id": "82b755b2",
   "metadata": {},
   "outputs": [],
   "source": [
    "# Load the CSV file into a dataframe\n",
    "df = pd.read_csv('Smiles.csv')\n",
    "\n",
    "# Create a new column to store the fingerprints\n",
    "df['Fingerprint'] = ''\n",
    "\n",
    "# Generate Morgan fingerprints for each molecule in the dataframe\n",
    "for i, row in df.iterrows():\n",
    "    smiles = row['SMILES']\n",
    "    mol = Chem.MolFromSmiles(smiles)\n",
    "    \n",
    "    # Generate Morgan fingerprint with radius 2 and bit length of 2048 \n",
    "    fp = AllChem.GetMorganFingerprintAsBitVect(mol, 2, nBits=2048)\n",
    "    \n",
    "    # Convert fingerprint to binary string representation and store it in the dataframe\n",
    "    df.at[i, 'Fingerprint'] = fp.ToBitString()\n",
    "\n",
    "# Save the updated dataframe back to CSV file\n",
    "df.to_csv('morganfingerprinted.csv', index=False)"
   ]
  },
  {
   "cell_type": "code",
   "execution_count": 4,
   "id": "1399edf4",
   "metadata": {},
   "outputs": [
    {
     "data": {
      "text/html": [
       "<div>\n",
       "<style scoped>\n",
       "    .dataframe tbody tr th:only-of-type {\n",
       "        vertical-align: middle;\n",
       "    }\n",
       "\n",
       "    .dataframe tbody tr th {\n",
       "        vertical-align: top;\n",
       "    }\n",
       "\n",
       "    .dataframe thead th {\n",
       "        text-align: right;\n",
       "    }\n",
       "</style>\n",
       "<table border=\"1\" class=\"dataframe\">\n",
       "  <thead>\n",
       "    <tr style=\"text-align: right;\">\n",
       "      <th></th>\n",
       "      <th>SMILES</th>\n",
       "      <th>Fingerprint</th>\n",
       "    </tr>\n",
       "  </thead>\n",
       "  <tbody>\n",
       "    <tr>\n",
       "      <th>0</th>\n",
       "      <td>CSCCC=O</td>\n",
       "      <td>0000000000010000000000000000000000000000000000...</td>\n",
       "    </tr>\n",
       "    <tr>\n",
       "      <th>1</th>\n",
       "      <td>CCC(C)C=O</td>\n",
       "      <td>0100000000000000000000000000000000000000000000...</td>\n",
       "    </tr>\n",
       "    <tr>\n",
       "      <th>2</th>\n",
       "      <td>CC(=O)C(C)=O</td>\n",
       "      <td>0000000000000000000000000000000000000000000000...</td>\n",
       "    </tr>\n",
       "    <tr>\n",
       "      <th>3</th>\n",
       "      <td>CCCCC/C=C/C=C/C=O</td>\n",
       "      <td>0000000000000000000000000000000000000000000000...</td>\n",
       "    </tr>\n",
       "    <tr>\n",
       "      <th>4</th>\n",
       "      <td>CC1OC(=C(O)C1=O)C</td>\n",
       "      <td>0000000000000000000000000000000000000000000000...</td>\n",
       "    </tr>\n",
       "  </tbody>\n",
       "</table>\n",
       "</div>"
      ],
      "text/plain": [
       "              SMILES                                        Fingerprint\n",
       "0            CSCCC=O  0000000000010000000000000000000000000000000000...\n",
       "1          CCC(C)C=O  0100000000000000000000000000000000000000000000...\n",
       "2       CC(=O)C(C)=O  0000000000000000000000000000000000000000000000...\n",
       "3  CCCCC/C=C/C=C/C=O  0000000000000000000000000000000000000000000000...\n",
       "4  CC1OC(=C(O)C1=O)C  0000000000000000000000000000000000000000000000..."
      ]
     },
     "execution_count": 4,
     "metadata": {},
     "output_type": "execute_result"
    }
   ],
   "source": [
    "df.head()"
   ]
  },
  {
   "cell_type": "code",
   "execution_count": null,
   "id": "9cb43f4d",
   "metadata": {},
   "outputs": [],
   "source": []
  }
 ],
 "metadata": {
  "kernelspec": {
   "display_name": "Python 3 (ipykernel)",
   "language": "python",
   "name": "python3"
  },
  "language_info": {
   "codemirror_mode": {
    "name": "ipython",
    "version": 3
   },
   "file_extension": ".py",
   "mimetype": "text/x-python",
   "name": "python",
   "nbconvert_exporter": "python",
   "pygments_lexer": "ipython3",
   "version": "3.11.3"
  }
 },
 "nbformat": 4,
 "nbformat_minor": 5
}
